{
 "cells": [
  {
   "cell_type": "markdown",
   "metadata": {},
   "source": [
    "# Лабораторная работа 1: решение задачи классификации"
   ]
  },
  {
   "cell_type": "markdown",
   "metadata": {},
   "source": [
    "# Создание набора данных"
   ]
  },
  {
   "cell_type": "code",
   "execution_count": 22,
   "metadata": {},
   "outputs": [],
   "source": [
    "from sklearn.datasets import make_classification\n",
    "\n",
    "size1 = 50  # Размер первой выборки\n",
    "size2 = 500 # Размер второй выборки\n",
    "\n",
    "# Первый и второй наборы данных состоят из\n",
    "# 2-х особенностей (n_features)\n",
    "# 2-х значимых особенностей (n_informative) из всех (n_features). Например, размер опухоли и ее возраст\n",
    "# Следовательно, 0 избыточных и дублирующих особенностей (n_reduntant и n_repeated, соответственно)\n",
    "# 0 дублирующих особенностей (n_repeated),\n",
    "# так как n_informative + n_redundant + n_repeated <= n_features\n",
    "\n",
    "# Нулевая доля выборок, класс которых обменивается случайным образом (flip_y)\n",
    "\n",
    "X1, T1 = make_classification(n_samples = size1, n_features=2,\n",
    "                           n_redundant=0, n_informative=2, flip_y=0)\n",
    "\n",
    "X2, T2 = make_classification(n_samples = size2, n_features=2,\n",
    "                           n_redundant=0, n_informative=2, flip_y=0)\n",
    "\n",
    "# Где\n",
    "# X1 и X2 - первая и вторая выборки (датасеты)\n",
    "# T1 и T2 - метки (классы), первого и второго наборов данных, соответственно\n",
    "\n",
    "# Приведем значения элементов множества меток к величинам 1 и -1\n",
    "\n",
    "T1 = T1*2-1\n",
    "T2 = T2*2-1"
   ]
  },
  {
   "cell_type": "markdown",
   "metadata": {},
   "source": [
    "# Разделение наборов данных на обучающие и тестовые в пропорции 80:20"
   ]
  },
  {
   "cell_type": "code",
   "execution_count": 23,
   "metadata": {},
   "outputs": [
    {
     "name": "stdout",
     "output_type": "stream",
     "text": [
      "Features:\n",
      " [[ 0.7540441   2.38037822]\n",
      " [ 0.84831102 -0.82680857]\n",
      " [ 2.71588991  1.79915029]\n",
      " [ 1.15503676 -1.20968701]]\n",
      "Labels:\n",
      " [1 1 1 1]\n"
     ]
    }
   ],
   "source": [
    "import numpy as np\n",
    "\n",
    "split_size = 0.8\n",
    "\n",
    "train_size1 = int(len(X1)*split_size)\n",
    "test_size1 = len(X1) - train_size1\n",
    "\n",
    "train_size2 = int(len(X2)*split_size)\n",
    "test_size2 = len(X2) - train_size2\n",
    "\n",
    "train_x1 = np.copy(X1[0:train_size1])\n",
    "train_t1 = np.copy(T1[0:train_size1])\n",
    "\n",
    "train_x2 = np.copy(X2[0:train_size2])\n",
    "train_t2 = np.copy(T2[0:train_size2])\n",
    "\n",
    "print(\"Features:\\n\",train_x1[0:4])\n",
    "print(\"Labels:\\n\",train_t1[0:4])"
   ]
  },
  {
   "cell_type": "markdown",
   "metadata": {},
   "source": [
    "# Алгоритм обучения: метод градиентного спуска"
   ]
  },
  {
   "cell_type": "code",
   "execution_count": 24,
   "metadata": {},
   "outputs": [],
   "source": [
    "# Критерием персептрона является отрицательная сумма по неправильно классифицированным точкам\n",
    "# Градиент критерия персептрона равен h * x_k * t_k, \n",
    "# где k является номером элемента из множества неправильно классифицированных точек\n",
    "\n",
    "def gradientDescentMethod(X, T):\n",
    "    num_features = X.shape[1] # Размер обучающей выборки\n",
    "    weights = np.zeros(num_features) # Инициализируем веса нулями\n",
    "    h = 1 # Постоянный шаг\n",
    "    \n",
    "    for i in range(X.shape[0]):\n",
    "        z = np.dot(weights,X[i]) # Произведение матриц весов и X_i = ||X_ij||, где i = 1,...n, j = 1,...k,\n",
    "        if(((z>=0) and (T[i]<0)) or ((z<0) and (T[i]>0))): # Если точка выше прямой (1 класс) и имеет 2 класс, то внести в критерий персептрона и наоборот\n",
    "            weights = weights + h*X[i]*T[i]\n",
    "            \n",
    "    return weights"
   ]
  },
  {
   "cell_type": "markdown",
   "metadata": {},
   "source": [
    "# Обучение персептрона"
   ]
  },
  {
   "cell_type": "code",
   "execution_count": 25,
   "metadata": {},
   "outputs": [],
   "source": [
    "wts1 = gradientDescentMethod(train_x1, train_t1)\n",
    "wts2 = gradientDescentMethod(train_x2, train_t2)"
   ]
  },
  {
   "cell_type": "markdown",
   "metadata": {},
   "source": [
    "# Создание процедуры отображения графика функции"
   ]
  },
  {
   "cell_type": "code",
   "execution_count": 26,
   "metadata": {},
   "outputs": [],
   "source": [
    "import pylab\n",
    "\n",
    "def functionGraphCreation(train_x, train_t, weights):\n",
    "    first_features = np.array([ [t[0],t[1]] for i,t in enumerate(train_x) \n",
    "                          if train_t[i]>0])\n",
    "    second_features = np.array([ [t[0],t[1]] for i,t in enumerate(train_x) \n",
    "                          if train_t[i]<0])\n",
    "    x = np.array([-8, 8], dtype='float32')\n",
    "    y = -(weights[0] * x)/weights[1]\n",
    "    pylab.xlim(-4, 4)\n",
    "    pylab.ylim(-4, 4) \n",
    "    pylab.plot(first_features[:,0], first_features[:,1], 'bo')\n",
    "    pylab.plot(second_features[:,0], second_features[:,1], 'ro')\n",
    "    pylab.plot(x, y, 'g', linewidth=3.0)\n",
    "    pylab.show()"
   ]
  },
  {
   "cell_type": "markdown",
   "metadata": {},
   "source": [
    "# Вывод результата"
   ]
  },
  {
   "cell_type": "code",
   "execution_count": 27,
   "metadata": {},
   "outputs": [
    {
     "data": {
      "image/png": "[encoded data removed]",
      "text/plain": [
       "<Figure size 432x288 with 1 Axes>"
      ]
     },
     "metadata": {
      "needs_background": "light"
     },
     "output_type": "display_data"
    },
    {
     "data": {
      "image/png": "[encoded data removed]",
      "text/plain": [
       "<Figure size 432x288 with 1 Axes>"
      ]
     },
     "metadata": {
      "needs_background": "light"
     },
     "output_type": "display_data"
    }
   ],
   "source": [
    "functionGraphCreation(train_x1, train_t1, wts1)\n",
    "functionGraphCreation(train_x2, train_t2, wts2)"
   ]
  },
  {
   "cell_type": "code",
   "execution_count": null,
   "metadata": {},
   "outputs": [],
   "source": []
  }
 ],
 "metadata": {
  "kernelspec": {
   "display_name": "Python 3",
   "language": "python",
   "name": "python3"
  },
  "language_info": {
   "codemirror_mode": {
    "name": "ipython",
    "version": 3
   },
   "file_extension": ".py",
   "mimetype": "text/x-python",
   "name": "python",
   "nbconvert_exporter": "python",
   "pygments_lexer": "ipython3",
   "version": "3.7.6"
  }
 },
 "nbformat": 4,
 "nbformat_minor": 4
}
